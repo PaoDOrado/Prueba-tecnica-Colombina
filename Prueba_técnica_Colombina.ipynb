{
  "cells": [
    {
      "cell_type": "markdown",
      "metadata": {
        "id": "view-in-github",
        "colab_type": "text"
      },
      "source": [
        "<a href=\"https://colab.research.google.com/github/PaoDOrado/Prueba-tecnica-Colombina/blob/main/Prueba_t%C3%A9cnica_Colombina.ipynb\" target=\"_parent\"><img src=\"https://colab.research.google.com/assets/colab-badge.svg\" alt=\"Open In Colab\"/></a>"
      ]
    },
    {
      "cell_type": "code",
      "execution_count": 1,
      "metadata": {
        "colab": {
          "base_uri": "https://localhost:8080/"
        },
        "id": "gnOc5Od7BXIS",
        "outputId": "6714fe9f-72ba-4309-e5ca-6c6055640b1c"
      },
      "outputs": [
        {
          "output_type": "stream",
          "name": "stdout",
          "text": [
            "Looking in indexes: https://pypi.org/simple, https://us-python.pkg.dev/colab-wheels/public/simple/\n",
            "Requirement already satisfied: plotly in /usr/local/lib/python3.7/dist-packages (5.5.0)\n",
            "Collecting plotly\n",
            "  Downloading plotly-5.9.0-py2.py3-none-any.whl (15.2 MB)\n",
            "\u001b[K     |████████████████████████████████| 15.2 MB 31.0 MB/s \n",
            "\u001b[?25hRequirement already satisfied: tenacity>=6.2.0 in /usr/local/lib/python3.7/dist-packages (from plotly) (8.0.1)\n",
            "Installing collected packages: plotly\n",
            "  Attempting uninstall: plotly\n",
            "    Found existing installation: plotly 5.5.0\n",
            "    Uninstalling plotly-5.5.0:\n",
            "      Successfully uninstalled plotly-5.5.0\n",
            "Successfully installed plotly-5.9.0\n",
            "Looking in indexes: https://pypi.org/simple, https://us-python.pkg.dev/colab-wheels/public/simple/\n",
            "Collecting kaleido\n",
            "  Downloading kaleido-0.2.1-py2.py3-none-manylinux1_x86_64.whl (79.9 MB)\n",
            "\u001b[K     |████████████████████████████████| 79.9 MB 80 kB/s \n",
            "\u001b[?25hInstalling collected packages: kaleido\n",
            "Successfully installed kaleido-0.2.1\n"
          ]
        }
      ],
      "source": [
        "!pip install -U plotly\n",
        "!pip install -U kaleido "
      ]
    },
    {
      "cell_type": "code",
      "execution_count": 2,
      "metadata": {
        "id": "XBr-91T4EhIn"
      },
      "outputs": [],
      "source": [
        "#Importar librerías\n",
        "import numpy as np\n",
        "import pandas as pd\n",
        "import matplotlib.pyplot as plt\n",
        "import matplotlib as mpl \n",
        "import seaborn as sns\n",
        "import math\n",
        "import plotly.graph_objs as go \n",
        "import plotly.express as px\n",
        "import datetime\n",
        "from pandas.core import groupby\n",
        "%matplotlib inline"
      ]
    },
    {
      "cell_type": "markdown",
      "metadata": {
        "id": "tFiLi7ECYIor"
      },
      "source": [
        "# **1. DESCRIPCIÓN DEL PROBLEMA**\n",
        "---\n",
        "Colombina está interesado en saber qué clientes tienen mayor probabilidad de no volver a comprar\n",
        "ninguno de sus productos. El negocio ha establecido que un cliente que no compra durante 2 meses\n",
        "es un cliente fugado.\n",
        " \n"
      ]
    },
    {
      "cell_type": "markdown",
      "metadata": {
        "id": "ZXed1V13HfNo"
      },
      "source": [
        "# **2. ENTENDIMIENTO DE LOS DATOS**\n",
        "---\n",
        "  "
      ]
    },
    {
      "cell_type": "markdown",
      "metadata": {
        "id": "73P-H_lKLcax"
      },
      "source": [
        "En esta sección se obtendrán unas estadísticas descriptivas para entender los datos. \n"
      ]
    },
    {
      "cell_type": "code",
      "source": [
        "datosColombina=pd.read_csv('prueba_DS.txt', sep=',')\n",
        "datosColombina.head(10)"
      ],
      "metadata": {
        "colab": {
          "base_uri": "https://localhost:8080/",
          "height": 363
        },
        "id": "6cy-F01MHuiR",
        "outputId": "0c156594-5542-43eb-e34a-3aa04824d8cd"
      },
      "execution_count": 3,
      "outputs": [
        {
          "output_type": "execute_result",
          "data": {
            "text/plain": [
              "     Doc_vtas       Fecha       Solic  Material  Cnt_uni  sect_mat  Cnt_cart  \\\n",
              "0  7503277849  2021-11-01  18134244.0   28424.0     72.0      42.0     1.000   \n",
              "1  7503277849  2021-11-01  18134244.0   26780.0      6.0      42.0     6.000   \n",
              "2  7503277849  2021-11-01  18134244.0   28846.0     72.0      42.0     1.000   \n",
              "3  7503277849  2021-11-01  18134244.0    6572.0     18.0      42.0     0.375   \n",
              "4  7503277849  2021-11-01  18134244.0   28850.0      1.0      42.0     1.000   \n",
              "5  7503277849  2021-11-01  18134244.0   28852.0     72.0      42.0     1.000   \n",
              "6  7503277849  2021-11-01  18134244.0   28854.0      1.0      42.0     1.000   \n",
              "7  7503277850  2021-11-01   1421200.0    9388.0      6.0      60.0     6.000   \n",
              "8  7503277850  2021-11-01   1421200.0   40302.0      6.0      60.0     6.000   \n",
              "9  7503277850  2021-11-01   1421200.0   54932.0      9.0      60.0     9.000   \n",
              "\n",
              "   ValN_Pos Moneda  \n",
              "0    347.76    COP  \n",
              "1    781.40    COP  \n",
              "2    309.05    COP  \n",
              "3    124.59    COP  \n",
              "4    478.87    COP  \n",
              "5    425.09    COP  \n",
              "6    609.77    COP  \n",
              "7   4528.80    COP  \n",
              "8   2764.80    COP  \n",
              "9   4375.08    COP  "
            ],
            "text/html": [
              "\n",
              "  <div id=\"df-0ca60ce3-596a-487a-bffa-9bdac6030c2b\">\n",
              "    <div class=\"colab-df-container\">\n",
              "      <div>\n",
              "<style scoped>\n",
              "    .dataframe tbody tr th:only-of-type {\n",
              "        vertical-align: middle;\n",
              "    }\n",
              "\n",
              "    .dataframe tbody tr th {\n",
              "        vertical-align: top;\n",
              "    }\n",
              "\n",
              "    .dataframe thead th {\n",
              "        text-align: right;\n",
              "    }\n",
              "</style>\n",
              "<table border=\"1\" class=\"dataframe\">\n",
              "  <thead>\n",
              "    <tr style=\"text-align: right;\">\n",
              "      <th></th>\n",
              "      <th>Doc_vtas</th>\n",
              "      <th>Fecha</th>\n",
              "      <th>Solic</th>\n",
              "      <th>Material</th>\n",
              "      <th>Cnt_uni</th>\n",
              "      <th>sect_mat</th>\n",
              "      <th>Cnt_cart</th>\n",
              "      <th>ValN_Pos</th>\n",
              "      <th>Moneda</th>\n",
              "    </tr>\n",
              "  </thead>\n",
              "  <tbody>\n",
              "    <tr>\n",
              "      <th>0</th>\n",
              "      <td>7503277849</td>\n",
              "      <td>2021-11-01</td>\n",
              "      <td>18134244.0</td>\n",
              "      <td>28424.0</td>\n",
              "      <td>72.0</td>\n",
              "      <td>42.0</td>\n",
              "      <td>1.000</td>\n",
              "      <td>347.76</td>\n",
              "      <td>COP</td>\n",
              "    </tr>\n",
              "    <tr>\n",
              "      <th>1</th>\n",
              "      <td>7503277849</td>\n",
              "      <td>2021-11-01</td>\n",
              "      <td>18134244.0</td>\n",
              "      <td>26780.0</td>\n",
              "      <td>6.0</td>\n",
              "      <td>42.0</td>\n",
              "      <td>6.000</td>\n",
              "      <td>781.40</td>\n",
              "      <td>COP</td>\n",
              "    </tr>\n",
              "    <tr>\n",
              "      <th>2</th>\n",
              "      <td>7503277849</td>\n",
              "      <td>2021-11-01</td>\n",
              "      <td>18134244.0</td>\n",
              "      <td>28846.0</td>\n",
              "      <td>72.0</td>\n",
              "      <td>42.0</td>\n",
              "      <td>1.000</td>\n",
              "      <td>309.05</td>\n",
              "      <td>COP</td>\n",
              "    </tr>\n",
              "    <tr>\n",
              "      <th>3</th>\n",
              "      <td>7503277849</td>\n",
              "      <td>2021-11-01</td>\n",
              "      <td>18134244.0</td>\n",
              "      <td>6572.0</td>\n",
              "      <td>18.0</td>\n",
              "      <td>42.0</td>\n",
              "      <td>0.375</td>\n",
              "      <td>124.59</td>\n",
              "      <td>COP</td>\n",
              "    </tr>\n",
              "    <tr>\n",
              "      <th>4</th>\n",
              "      <td>7503277849</td>\n",
              "      <td>2021-11-01</td>\n",
              "      <td>18134244.0</td>\n",
              "      <td>28850.0</td>\n",
              "      <td>1.0</td>\n",
              "      <td>42.0</td>\n",
              "      <td>1.000</td>\n",
              "      <td>478.87</td>\n",
              "      <td>COP</td>\n",
              "    </tr>\n",
              "    <tr>\n",
              "      <th>5</th>\n",
              "      <td>7503277849</td>\n",
              "      <td>2021-11-01</td>\n",
              "      <td>18134244.0</td>\n",
              "      <td>28852.0</td>\n",
              "      <td>72.0</td>\n",
              "      <td>42.0</td>\n",
              "      <td>1.000</td>\n",
              "      <td>425.09</td>\n",
              "      <td>COP</td>\n",
              "    </tr>\n",
              "    <tr>\n",
              "      <th>6</th>\n",
              "      <td>7503277849</td>\n",
              "      <td>2021-11-01</td>\n",
              "      <td>18134244.0</td>\n",
              "      <td>28854.0</td>\n",
              "      <td>1.0</td>\n",
              "      <td>42.0</td>\n",
              "      <td>1.000</td>\n",
              "      <td>609.77</td>\n",
              "      <td>COP</td>\n",
              "    </tr>\n",
              "    <tr>\n",
              "      <th>7</th>\n",
              "      <td>7503277850</td>\n",
              "      <td>2021-11-01</td>\n",
              "      <td>1421200.0</td>\n",
              "      <td>9388.0</td>\n",
              "      <td>6.0</td>\n",
              "      <td>60.0</td>\n",
              "      <td>6.000</td>\n",
              "      <td>4528.80</td>\n",
              "      <td>COP</td>\n",
              "    </tr>\n",
              "    <tr>\n",
              "      <th>8</th>\n",
              "      <td>7503277850</td>\n",
              "      <td>2021-11-01</td>\n",
              "      <td>1421200.0</td>\n",
              "      <td>40302.0</td>\n",
              "      <td>6.0</td>\n",
              "      <td>60.0</td>\n",
              "      <td>6.000</td>\n",
              "      <td>2764.80</td>\n",
              "      <td>COP</td>\n",
              "    </tr>\n",
              "    <tr>\n",
              "      <th>9</th>\n",
              "      <td>7503277850</td>\n",
              "      <td>2021-11-01</td>\n",
              "      <td>1421200.0</td>\n",
              "      <td>54932.0</td>\n",
              "      <td>9.0</td>\n",
              "      <td>60.0</td>\n",
              "      <td>9.000</td>\n",
              "      <td>4375.08</td>\n",
              "      <td>COP</td>\n",
              "    </tr>\n",
              "  </tbody>\n",
              "</table>\n",
              "</div>\n",
              "      <button class=\"colab-df-convert\" onclick=\"convertToInteractive('df-0ca60ce3-596a-487a-bffa-9bdac6030c2b')\"\n",
              "              title=\"Convert this dataframe to an interactive table.\"\n",
              "              style=\"display:none;\">\n",
              "        \n",
              "  <svg xmlns=\"http://www.w3.org/2000/svg\" height=\"24px\"viewBox=\"0 0 24 24\"\n",
              "       width=\"24px\">\n",
              "    <path d=\"M0 0h24v24H0V0z\" fill=\"none\"/>\n",
              "    <path d=\"M18.56 5.44l.94 2.06.94-2.06 2.06-.94-2.06-.94-.94-2.06-.94 2.06-2.06.94zm-11 1L8.5 8.5l.94-2.06 2.06-.94-2.06-.94L8.5 2.5l-.94 2.06-2.06.94zm10 10l.94 2.06.94-2.06 2.06-.94-2.06-.94-.94-2.06-.94 2.06-2.06.94z\"/><path d=\"M17.41 7.96l-1.37-1.37c-.4-.4-.92-.59-1.43-.59-.52 0-1.04.2-1.43.59L10.3 9.45l-7.72 7.72c-.78.78-.78 2.05 0 2.83L4 21.41c.39.39.9.59 1.41.59.51 0 1.02-.2 1.41-.59l7.78-7.78 2.81-2.81c.8-.78.8-2.07 0-2.86zM5.41 20L4 18.59l7.72-7.72 1.47 1.35L5.41 20z\"/>\n",
              "  </svg>\n",
              "      </button>\n",
              "      \n",
              "  <style>\n",
              "    .colab-df-container {\n",
              "      display:flex;\n",
              "      flex-wrap:wrap;\n",
              "      gap: 12px;\n",
              "    }\n",
              "\n",
              "    .colab-df-convert {\n",
              "      background-color: #E8F0FE;\n",
              "      border: none;\n",
              "      border-radius: 50%;\n",
              "      cursor: pointer;\n",
              "      display: none;\n",
              "      fill: #1967D2;\n",
              "      height: 32px;\n",
              "      padding: 0 0 0 0;\n",
              "      width: 32px;\n",
              "    }\n",
              "\n",
              "    .colab-df-convert:hover {\n",
              "      background-color: #E2EBFA;\n",
              "      box-shadow: 0px 1px 2px rgba(60, 64, 67, 0.3), 0px 1px 3px 1px rgba(60, 64, 67, 0.15);\n",
              "      fill: #174EA6;\n",
              "    }\n",
              "\n",
              "    [theme=dark] .colab-df-convert {\n",
              "      background-color: #3B4455;\n",
              "      fill: #D2E3FC;\n",
              "    }\n",
              "\n",
              "    [theme=dark] .colab-df-convert:hover {\n",
              "      background-color: #434B5C;\n",
              "      box-shadow: 0px 1px 3px 1px rgba(0, 0, 0, 0.15);\n",
              "      filter: drop-shadow(0px 1px 2px rgba(0, 0, 0, 0.3));\n",
              "      fill: #FFFFFF;\n",
              "    }\n",
              "  </style>\n",
              "\n",
              "      <script>\n",
              "        const buttonEl =\n",
              "          document.querySelector('#df-0ca60ce3-596a-487a-bffa-9bdac6030c2b button.colab-df-convert');\n",
              "        buttonEl.style.display =\n",
              "          google.colab.kernel.accessAllowed ? 'block' : 'none';\n",
              "\n",
              "        async function convertToInteractive(key) {\n",
              "          const element = document.querySelector('#df-0ca60ce3-596a-487a-bffa-9bdac6030c2b');\n",
              "          const dataTable =\n",
              "            await google.colab.kernel.invokeFunction('convertToInteractive',\n",
              "                                                     [key], {});\n",
              "          if (!dataTable) return;\n",
              "\n",
              "          const docLinkHtml = 'Like what you see? Visit the ' +\n",
              "            '<a target=\"_blank\" href=https://colab.research.google.com/notebooks/data_table.ipynb>data table notebook</a>'\n",
              "            + ' to learn more about interactive tables.';\n",
              "          element.innerHTML = '';\n",
              "          dataTable['output_type'] = 'display_data';\n",
              "          await google.colab.output.renderOutput(dataTable, element);\n",
              "          const docLink = document.createElement('div');\n",
              "          docLink.innerHTML = docLinkHtml;\n",
              "          element.appendChild(docLink);\n",
              "        }\n",
              "      </script>\n",
              "    </div>\n",
              "  </div>\n",
              "  "
            ]
          },
          "metadata": {},
          "execution_count": 3
        }
      ]
    },
    {
      "cell_type": "markdown",
      "metadata": {
        "id": "O8-nC7YpSkkt"
      },
      "source": [
        "**Descripción de la base de datos**\n",
        "\n",
        "El conjunto de datos cuenta con las variables que se describen a continuación:\n",
        "\n",
        "| Variable | Definición\t| Valores | \n",
        "| --- | --- | --- |\n",
        "|Doc_vtas | Id de pedido|Númerico|\n",
        "|Fecha |Fecha del pedido|Fecha|\n",
        "|Solic |Código del cliente|Númerico|\n",
        "|Material |Id del producto solicitado|Númerico|\n",
        "|Cnt_uni |Cantidad pedida en unidad venta|Númerico|\n",
        "|sect_mat| código del sector del producto|Númerico|\n",
        "|Cnt_cart| Cantidad pedidos en unidad cartón|Númerico|\n",
        "|ValN_Pos| Valor neto en dinero|Númerico|\n",
        "|Moneda |Moneda|Caracter|\n"
      ]
    },
    {
      "cell_type": "markdown",
      "metadata": {
        "id": "WjYO7xJ_rLeH"
      },
      "source": [
        "***Descripciones generales***\n",
        "\n",
        "En esta parte se conocerá como está conformada la base de datos y se realizará un análisis de valores faltantes."
      ]
    },
    {
      "cell_type": "code",
      "execution_count": 4,
      "metadata": {
        "id": "swTdse-2kLPx",
        "colab": {
          "base_uri": "https://localhost:8080/"
        },
        "outputId": "9e3eda6a-3288-49ab-ba92-4a28833c3c2a"
      },
      "outputs": [
        {
          "output_type": "stream",
          "name": "stdout",
          "text": [
            "<class 'pandas.core.frame.DataFrame'>\n",
            "RangeIndex: 8338873 entries, 0 to 8338872\n",
            "Data columns (total 9 columns):\n",
            " #   Column    Dtype  \n",
            "---  ------    -----  \n",
            " 0   Doc_vtas  int64  \n",
            " 1   Fecha     object \n",
            " 2   Solic     float64\n",
            " 3   Material  float64\n",
            " 4   Cnt_uni   float64\n",
            " 5   sect_mat  float64\n",
            " 6   Cnt_cart  float64\n",
            " 7   ValN_Pos  float64\n",
            " 8   Moneda    object \n",
            "dtypes: float64(6), int64(1), object(2)\n",
            "memory usage: 572.6+ MB\n"
          ]
        },
        {
          "output_type": "execute_result",
          "data": {
            "text/plain": [
              "(8338873, 9)"
            ]
          },
          "metadata": {},
          "execution_count": 4
        }
      ],
      "source": [
        "datosColombina.info()\n",
        "datosColombina.shape"
      ]
    },
    {
      "cell_type": "markdown",
      "metadata": {
        "id": "ix5ibOB0ljq3"
      },
      "source": [
        "La base cuenta con 8338873 observaciones y 9 variables."
      ]
    },
    {
      "cell_type": "code",
      "execution_count": 6,
      "metadata": {
        "id": "bWei6Yi4lihN",
        "colab": {
          "base_uri": "https://localhost:8080/"
        },
        "outputId": "cde699b8-e0e4-446a-ebfa-d1dbd2abb01f"
      },
      "outputs": [
        {
          "output_type": "execute_result",
          "data": {
            "text/plain": [
              "Doc_vtas    0\n",
              "Fecha       1\n",
              "Solic       1\n",
              "Material    1\n",
              "Cnt_uni     1\n",
              "sect_mat    1\n",
              "Cnt_cart    1\n",
              "ValN_Pos    1\n",
              "Moneda      1\n",
              "dtype: int64"
            ]
          },
          "metadata": {},
          "execution_count": 6
        }
      ],
      "source": [
        "#Cantidad de valores faltantes por variable\n",
        "cont_valores_faltantes = datosColombina.isnull().sum()\n",
        "cont_valores_faltantes"
      ]
    },
    {
      "cell_type": "markdown",
      "metadata": {
        "id": "kAz5reFNnabq"
      },
      "source": [
        "No se encontraron valores faltantes.\n"
      ]
    },
    {
      "cell_type": "markdown",
      "metadata": {
        "id": "6gjKORytA2qz"
      },
      "source": [
        " ***Estadísticas descriptivas***\n",
        "\n",
        "Se obtendrán las estadísticas descriptivas de posición y de dispersión (promedio,mediana, desviación estándar, máximo y mínimo) de las variables cuantitativas Cnt_uni, Cnt_cart y ValN_Pos, para describir como se encuentran los datos."
      ]
    },
    {
      "cell_type": "code",
      "execution_count": 7,
      "metadata": {
        "id": "sSPfDJhQP739",
        "colab": {
          "base_uri": "https://localhost:8080/",
          "height": 143
        },
        "outputId": "12704b70-8228-4c5f-89be-995d56166d43"
      },
      "outputs": [
        {
          "output_type": "execute_result",
          "data": {
            "text/plain": [
              "      Cnt_uni  Cnt_cart  ValN_Pos\n",
              "0.25      1.0  0.055556     39.60\n",
              "0.50      1.0  0.083333     53.34\n",
              "0.75      3.0  0.125000     84.48"
            ],
            "text/html": [
              "\n",
              "  <div id=\"df-2af78f76-6960-4270-a1eb-e0fe328d4143\">\n",
              "    <div class=\"colab-df-container\">\n",
              "      <div>\n",
              "<style scoped>\n",
              "    .dataframe tbody tr th:only-of-type {\n",
              "        vertical-align: middle;\n",
              "    }\n",
              "\n",
              "    .dataframe tbody tr th {\n",
              "        vertical-align: top;\n",
              "    }\n",
              "\n",
              "    .dataframe thead th {\n",
              "        text-align: right;\n",
              "    }\n",
              "</style>\n",
              "<table border=\"1\" class=\"dataframe\">\n",
              "  <thead>\n",
              "    <tr style=\"text-align: right;\">\n",
              "      <th></th>\n",
              "      <th>Cnt_uni</th>\n",
              "      <th>Cnt_cart</th>\n",
              "      <th>ValN_Pos</th>\n",
              "    </tr>\n",
              "  </thead>\n",
              "  <tbody>\n",
              "    <tr>\n",
              "      <th>0.25</th>\n",
              "      <td>1.0</td>\n",
              "      <td>0.055556</td>\n",
              "      <td>39.60</td>\n",
              "    </tr>\n",
              "    <tr>\n",
              "      <th>0.50</th>\n",
              "      <td>1.0</td>\n",
              "      <td>0.083333</td>\n",
              "      <td>53.34</td>\n",
              "    </tr>\n",
              "    <tr>\n",
              "      <th>0.75</th>\n",
              "      <td>3.0</td>\n",
              "      <td>0.125000</td>\n",
              "      <td>84.48</td>\n",
              "    </tr>\n",
              "  </tbody>\n",
              "</table>\n",
              "</div>\n",
              "      <button class=\"colab-df-convert\" onclick=\"convertToInteractive('df-2af78f76-6960-4270-a1eb-e0fe328d4143')\"\n",
              "              title=\"Convert this dataframe to an interactive table.\"\n",
              "              style=\"display:none;\">\n",
              "        \n",
              "  <svg xmlns=\"http://www.w3.org/2000/svg\" height=\"24px\"viewBox=\"0 0 24 24\"\n",
              "       width=\"24px\">\n",
              "    <path d=\"M0 0h24v24H0V0z\" fill=\"none\"/>\n",
              "    <path d=\"M18.56 5.44l.94 2.06.94-2.06 2.06-.94-2.06-.94-.94-2.06-.94 2.06-2.06.94zm-11 1L8.5 8.5l.94-2.06 2.06-.94-2.06-.94L8.5 2.5l-.94 2.06-2.06.94zm10 10l.94 2.06.94-2.06 2.06-.94-2.06-.94-.94-2.06-.94 2.06-2.06.94z\"/><path d=\"M17.41 7.96l-1.37-1.37c-.4-.4-.92-.59-1.43-.59-.52 0-1.04.2-1.43.59L10.3 9.45l-7.72 7.72c-.78.78-.78 2.05 0 2.83L4 21.41c.39.39.9.59 1.41.59.51 0 1.02-.2 1.41-.59l7.78-7.78 2.81-2.81c.8-.78.8-2.07 0-2.86zM5.41 20L4 18.59l7.72-7.72 1.47 1.35L5.41 20z\"/>\n",
              "  </svg>\n",
              "      </button>\n",
              "      \n",
              "  <style>\n",
              "    .colab-df-container {\n",
              "      display:flex;\n",
              "      flex-wrap:wrap;\n",
              "      gap: 12px;\n",
              "    }\n",
              "\n",
              "    .colab-df-convert {\n",
              "      background-color: #E8F0FE;\n",
              "      border: none;\n",
              "      border-radius: 50%;\n",
              "      cursor: pointer;\n",
              "      display: none;\n",
              "      fill: #1967D2;\n",
              "      height: 32px;\n",
              "      padding: 0 0 0 0;\n",
              "      width: 32px;\n",
              "    }\n",
              "\n",
              "    .colab-df-convert:hover {\n",
              "      background-color: #E2EBFA;\n",
              "      box-shadow: 0px 1px 2px rgba(60, 64, 67, 0.3), 0px 1px 3px 1px rgba(60, 64, 67, 0.15);\n",
              "      fill: #174EA6;\n",
              "    }\n",
              "\n",
              "    [theme=dark] .colab-df-convert {\n",
              "      background-color: #3B4455;\n",
              "      fill: #D2E3FC;\n",
              "    }\n",
              "\n",
              "    [theme=dark] .colab-df-convert:hover {\n",
              "      background-color: #434B5C;\n",
              "      box-shadow: 0px 1px 3px 1px rgba(0, 0, 0, 0.15);\n",
              "      filter: drop-shadow(0px 1px 2px rgba(0, 0, 0, 0.3));\n",
              "      fill: #FFFFFF;\n",
              "    }\n",
              "  </style>\n",
              "\n",
              "      <script>\n",
              "        const buttonEl =\n",
              "          document.querySelector('#df-2af78f76-6960-4270-a1eb-e0fe328d4143 button.colab-df-convert');\n",
              "        buttonEl.style.display =\n",
              "          google.colab.kernel.accessAllowed ? 'block' : 'none';\n",
              "\n",
              "        async function convertToInteractive(key) {\n",
              "          const element = document.querySelector('#df-2af78f76-6960-4270-a1eb-e0fe328d4143');\n",
              "          const dataTable =\n",
              "            await google.colab.kernel.invokeFunction('convertToInteractive',\n",
              "                                                     [key], {});\n",
              "          if (!dataTable) return;\n",
              "\n",
              "          const docLinkHtml = 'Like what you see? Visit the ' +\n",
              "            '<a target=\"_blank\" href=https://colab.research.google.com/notebooks/data_table.ipynb>data table notebook</a>'\n",
              "            + ' to learn more about interactive tables.';\n",
              "          element.innerHTML = '';\n",
              "          dataTable['output_type'] = 'display_data';\n",
              "          await google.colab.output.renderOutput(dataTable, element);\n",
              "          const docLink = document.createElement('div');\n",
              "          docLink.innerHTML = docLinkHtml;\n",
              "          element.appendChild(docLink);\n",
              "        }\n",
              "      </script>\n",
              "    </div>\n",
              "  </div>\n",
              "  "
            ]
          },
          "metadata": {},
          "execution_count": 7
        }
      ],
      "source": [
        "datosColombina[['Cnt_uni','Cnt_cart','ValN_Pos']].quantile([0.25, 0.5, 0.75])"
      ]
    },
    {
      "cell_type": "code",
      "source": [
        "datosColombina[['Cnt_uni','Cnt_cart','ValN_Pos']].mean()"
      ],
      "metadata": {
        "colab": {
          "base_uri": "https://localhost:8080/"
        },
        "id": "38z_b0AKJH8o",
        "outputId": "f5ee9cb8-cd10-493a-939e-91a864e9dbd3"
      },
      "execution_count": 8,
      "outputs": [
        {
          "output_type": "execute_result",
          "data": {
            "text/plain": [
              "Cnt_uni      3.465728\n",
              "Cnt_cart     1.110388\n",
              "ValN_Pos    89.186420\n",
              "dtype: float64"
            ]
          },
          "metadata": {},
          "execution_count": 8
        }
      ]
    },
    {
      "cell_type": "markdown",
      "source": [
        "Para la tres variables anteriores se puede observar que la mediana es menor que el promedio, por lo que se tiene una distribución asimetrica positiva esto quiere decir que los datos tienden hacia valores menores al promedio (media).\n",
        "\n",
        "---\n",
        "\n"
      ],
      "metadata": {
        "id": "50H5Yob1L0mA"
      }
    },
    {
      "cell_type": "code",
      "source": [
        "datosColombina[['Cnt_uni','Cnt_cart','ValN_Pos']].std()"
      ],
      "metadata": {
        "colab": {
          "base_uri": "https://localhost:8080/"
        },
        "id": "G6UW7qUqJQ05",
        "outputId": "0439fd97-5054-4516-e64b-5c7a26a36286"
      },
      "execution_count": 9,
      "outputs": [
        {
          "output_type": "execute_result",
          "data": {
            "text/plain": [
              "Cnt_uni     338.076556\n",
              "Cnt_cart    337.951969\n",
              "ValN_Pos    489.520831\n",
              "dtype: float64"
            ]
          },
          "metadata": {},
          "execution_count": 9
        }
      ]
    },
    {
      "cell_type": "markdown",
      "metadata": {
        "id": "D5Jz_G5mI1tR"
      },
      "source": [
        "Al obtener la desviación estándar, se puede observar que los datos estan muy dispersos, ya que se tiene una desviación grande."
      ]
    },
    {
      "cell_type": "code",
      "execution_count": 10,
      "metadata": {
        "id": "wS9HV6jWQgZS",
        "colab": {
          "base_uri": "https://localhost:8080/"
        },
        "outputId": "1d1fa9b9-5835-4937-9947-e23521d27a10"
      },
      "outputs": [
        {
          "output_type": "execute_result",
          "data": {
            "text/plain": [
              "Cnt_uni     0.0\n",
              "Cnt_cart    0.0\n",
              "Cnt_cart    0.0\n",
              "dtype: float64"
            ]
          },
          "metadata": {},
          "execution_count": 10
        }
      ],
      "source": [
        "#valores mínimos de las variables cuantitativas\n",
        "datosColombina[['Cnt_uni','Cnt_cart','Cnt_cart']].min()"
      ]
    },
    {
      "cell_type": "code",
      "execution_count": 11,
      "metadata": {
        "id": "WIpgdjwAQkmA",
        "colab": {
          "base_uri": "https://localhost:8080/"
        },
        "outputId": "26d4a82e-e5c9-4578-f44b-73cc74821031"
      },
      "outputs": [
        {
          "output_type": "execute_result",
          "data": {
            "text/plain": [
              "Cnt_uni     200000.0\n",
              "Cnt_cart    200000.0\n",
              "Cnt_cart    200000.0\n",
              "dtype: float64"
            ]
          },
          "metadata": {},
          "execution_count": 11
        }
      ],
      "source": [
        "#valores máximos de las variables cuantitativas\n",
        "datosColombina[['Cnt_uni','Cnt_cart','Cnt_cart']].max()"
      ]
    },
    {
      "cell_type": "markdown",
      "metadata": {
        "id": "ggIWxeh_yPlr"
      },
      "source": [
        "Para el analisis de fuga primero se realizara el cambio de la variable Fecha a datetime "
      ]
    },
    {
      "cell_type": "code",
      "source": [
        "datosColombina['Fecha'] = pd.to_datetime(datosColombina['Fecha'])"
      ],
      "metadata": {
        "id": "bCz752mjUZqG"
      },
      "execution_count": 12,
      "outputs": []
    },
    {
      "cell_type": "code",
      "execution_count": 13,
      "metadata": {
        "id": "hnRyzch1BGIt"
      },
      "outputs": [],
      "source": [
        "# Creación de las variables FechaInicio y FechaFinal\n",
        "datosColombina['FechaInicio']=datosColombina['Fecha']\n",
        "datosColombina['FechaFinal']=datosColombina['Fecha']"
      ]
    },
    {
      "cell_type": "code",
      "source": [
        "#obtencion de la fecha minima\n",
        "datosColombina[['Fecha']].min()"
      ],
      "metadata": {
        "id": "bC6-B1Up8x-_",
        "colab": {
          "base_uri": "https://localhost:8080/"
        },
        "outputId": "192c7b3e-2dc3-48e7-de2d-59425a7a6e91"
      },
      "execution_count": 14,
      "outputs": [
        {
          "output_type": "execute_result",
          "data": {
            "text/plain": [
              "Fecha   2021-11-01\n",
              "dtype: datetime64[ns]"
            ]
          },
          "metadata": {},
          "execution_count": 14
        }
      ]
    },
    {
      "cell_type": "code",
      "source": [
        "#Creación de la variable rango despues de fijar una fecha en el tiempo\n",
        "datosColombina['Rango']=datosColombina['Fecha'].sub(pd.Timestamp('2021-10-01')).dt.days\n",
        "datosColombina.head()"
      ],
      "metadata": {
        "id": "ipjsm4Pa76tP",
        "colab": {
          "base_uri": "https://localhost:8080/",
          "height": 206
        },
        "outputId": "2f461928-a6b9-46a0-fe6b-9fa97590c39d"
      },
      "execution_count": 15,
      "outputs": [
        {
          "output_type": "execute_result",
          "data": {
            "text/plain": [
              "     Doc_vtas      Fecha       Solic  Material  Cnt_uni  sect_mat  Cnt_cart  \\\n",
              "0  7503277849 2021-11-01  18134244.0   28424.0     72.0      42.0     1.000   \n",
              "1  7503277849 2021-11-01  18134244.0   26780.0      6.0      42.0     6.000   \n",
              "2  7503277849 2021-11-01  18134244.0   28846.0     72.0      42.0     1.000   \n",
              "3  7503277849 2021-11-01  18134244.0    6572.0     18.0      42.0     0.375   \n",
              "4  7503277849 2021-11-01  18134244.0   28850.0      1.0      42.0     1.000   \n",
              "\n",
              "   ValN_Pos Moneda FechaInicio FechaFinal  Rango  \n",
              "0    347.76    COP  2021-11-01 2021-11-01   31.0  \n",
              "1    781.40    COP  2021-11-01 2021-11-01   31.0  \n",
              "2    309.05    COP  2021-11-01 2021-11-01   31.0  \n",
              "3    124.59    COP  2021-11-01 2021-11-01   31.0  \n",
              "4    478.87    COP  2021-11-01 2021-11-01   31.0  "
            ],
            "text/html": [
              "\n",
              "  <div id=\"df-e47f5886-d0cc-4ae0-9a7e-7ab64af2c6f1\">\n",
              "    <div class=\"colab-df-container\">\n",
              "      <div>\n",
              "<style scoped>\n",
              "    .dataframe tbody tr th:only-of-type {\n",
              "        vertical-align: middle;\n",
              "    }\n",
              "\n",
              "    .dataframe tbody tr th {\n",
              "        vertical-align: top;\n",
              "    }\n",
              "\n",
              "    .dataframe thead th {\n",
              "        text-align: right;\n",
              "    }\n",
              "</style>\n",
              "<table border=\"1\" class=\"dataframe\">\n",
              "  <thead>\n",
              "    <tr style=\"text-align: right;\">\n",
              "      <th></th>\n",
              "      <th>Doc_vtas</th>\n",
              "      <th>Fecha</th>\n",
              "      <th>Solic</th>\n",
              "      <th>Material</th>\n",
              "      <th>Cnt_uni</th>\n",
              "      <th>sect_mat</th>\n",
              "      <th>Cnt_cart</th>\n",
              "      <th>ValN_Pos</th>\n",
              "      <th>Moneda</th>\n",
              "      <th>FechaInicio</th>\n",
              "      <th>FechaFinal</th>\n",
              "      <th>Rango</th>\n",
              "    </tr>\n",
              "  </thead>\n",
              "  <tbody>\n",
              "    <tr>\n",
              "      <th>0</th>\n",
              "      <td>7503277849</td>\n",
              "      <td>2021-11-01</td>\n",
              "      <td>18134244.0</td>\n",
              "      <td>28424.0</td>\n",
              "      <td>72.0</td>\n",
              "      <td>42.0</td>\n",
              "      <td>1.000</td>\n",
              "      <td>347.76</td>\n",
              "      <td>COP</td>\n",
              "      <td>2021-11-01</td>\n",
              "      <td>2021-11-01</td>\n",
              "      <td>31.0</td>\n",
              "    </tr>\n",
              "    <tr>\n",
              "      <th>1</th>\n",
              "      <td>7503277849</td>\n",
              "      <td>2021-11-01</td>\n",
              "      <td>18134244.0</td>\n",
              "      <td>26780.0</td>\n",
              "      <td>6.0</td>\n",
              "      <td>42.0</td>\n",
              "      <td>6.000</td>\n",
              "      <td>781.40</td>\n",
              "      <td>COP</td>\n",
              "      <td>2021-11-01</td>\n",
              "      <td>2021-11-01</td>\n",
              "      <td>31.0</td>\n",
              "    </tr>\n",
              "    <tr>\n",
              "      <th>2</th>\n",
              "      <td>7503277849</td>\n",
              "      <td>2021-11-01</td>\n",
              "      <td>18134244.0</td>\n",
              "      <td>28846.0</td>\n",
              "      <td>72.0</td>\n",
              "      <td>42.0</td>\n",
              "      <td>1.000</td>\n",
              "      <td>309.05</td>\n",
              "      <td>COP</td>\n",
              "      <td>2021-11-01</td>\n",
              "      <td>2021-11-01</td>\n",
              "      <td>31.0</td>\n",
              "    </tr>\n",
              "    <tr>\n",
              "      <th>3</th>\n",
              "      <td>7503277849</td>\n",
              "      <td>2021-11-01</td>\n",
              "      <td>18134244.0</td>\n",
              "      <td>6572.0</td>\n",
              "      <td>18.0</td>\n",
              "      <td>42.0</td>\n",
              "      <td>0.375</td>\n",
              "      <td>124.59</td>\n",
              "      <td>COP</td>\n",
              "      <td>2021-11-01</td>\n",
              "      <td>2021-11-01</td>\n",
              "      <td>31.0</td>\n",
              "    </tr>\n",
              "    <tr>\n",
              "      <th>4</th>\n",
              "      <td>7503277849</td>\n",
              "      <td>2021-11-01</td>\n",
              "      <td>18134244.0</td>\n",
              "      <td>28850.0</td>\n",
              "      <td>1.0</td>\n",
              "      <td>42.0</td>\n",
              "      <td>1.000</td>\n",
              "      <td>478.87</td>\n",
              "      <td>COP</td>\n",
              "      <td>2021-11-01</td>\n",
              "      <td>2021-11-01</td>\n",
              "      <td>31.0</td>\n",
              "    </tr>\n",
              "  </tbody>\n",
              "</table>\n",
              "</div>\n",
              "      <button class=\"colab-df-convert\" onclick=\"convertToInteractive('df-e47f5886-d0cc-4ae0-9a7e-7ab64af2c6f1')\"\n",
              "              title=\"Convert this dataframe to an interactive table.\"\n",
              "              style=\"display:none;\">\n",
              "        \n",
              "  <svg xmlns=\"http://www.w3.org/2000/svg\" height=\"24px\"viewBox=\"0 0 24 24\"\n",
              "       width=\"24px\">\n",
              "    <path d=\"M0 0h24v24H0V0z\" fill=\"none\"/>\n",
              "    <path d=\"M18.56 5.44l.94 2.06.94-2.06 2.06-.94-2.06-.94-.94-2.06-.94 2.06-2.06.94zm-11 1L8.5 8.5l.94-2.06 2.06-.94-2.06-.94L8.5 2.5l-.94 2.06-2.06.94zm10 10l.94 2.06.94-2.06 2.06-.94-2.06-.94-.94-2.06-.94 2.06-2.06.94z\"/><path d=\"M17.41 7.96l-1.37-1.37c-.4-.4-.92-.59-1.43-.59-.52 0-1.04.2-1.43.59L10.3 9.45l-7.72 7.72c-.78.78-.78 2.05 0 2.83L4 21.41c.39.39.9.59 1.41.59.51 0 1.02-.2 1.41-.59l7.78-7.78 2.81-2.81c.8-.78.8-2.07 0-2.86zM5.41 20L4 18.59l7.72-7.72 1.47 1.35L5.41 20z\"/>\n",
              "  </svg>\n",
              "      </button>\n",
              "      \n",
              "  <style>\n",
              "    .colab-df-container {\n",
              "      display:flex;\n",
              "      flex-wrap:wrap;\n",
              "      gap: 12px;\n",
              "    }\n",
              "\n",
              "    .colab-df-convert {\n",
              "      background-color: #E8F0FE;\n",
              "      border: none;\n",
              "      border-radius: 50%;\n",
              "      cursor: pointer;\n",
              "      display: none;\n",
              "      fill: #1967D2;\n",
              "      height: 32px;\n",
              "      padding: 0 0 0 0;\n",
              "      width: 32px;\n",
              "    }\n",
              "\n",
              "    .colab-df-convert:hover {\n",
              "      background-color: #E2EBFA;\n",
              "      box-shadow: 0px 1px 2px rgba(60, 64, 67, 0.3), 0px 1px 3px 1px rgba(60, 64, 67, 0.15);\n",
              "      fill: #174EA6;\n",
              "    }\n",
              "\n",
              "    [theme=dark] .colab-df-convert {\n",
              "      background-color: #3B4455;\n",
              "      fill: #D2E3FC;\n",
              "    }\n",
              "\n",
              "    [theme=dark] .colab-df-convert:hover {\n",
              "      background-color: #434B5C;\n",
              "      box-shadow: 0px 1px 3px 1px rgba(0, 0, 0, 0.15);\n",
              "      filter: drop-shadow(0px 1px 2px rgba(0, 0, 0, 0.3));\n",
              "      fill: #FFFFFF;\n",
              "    }\n",
              "  </style>\n",
              "\n",
              "      <script>\n",
              "        const buttonEl =\n",
              "          document.querySelector('#df-e47f5886-d0cc-4ae0-9a7e-7ab64af2c6f1 button.colab-df-convert');\n",
              "        buttonEl.style.display =\n",
              "          google.colab.kernel.accessAllowed ? 'block' : 'none';\n",
              "\n",
              "        async function convertToInteractive(key) {\n",
              "          const element = document.querySelector('#df-e47f5886-d0cc-4ae0-9a7e-7ab64af2c6f1');\n",
              "          const dataTable =\n",
              "            await google.colab.kernel.invokeFunction('convertToInteractive',\n",
              "                                                     [key], {});\n",
              "          if (!dataTable) return;\n",
              "\n",
              "          const docLinkHtml = 'Like what you see? Visit the ' +\n",
              "            '<a target=\"_blank\" href=https://colab.research.google.com/notebooks/data_table.ipynb>data table notebook</a>'\n",
              "            + ' to learn more about interactive tables.';\n",
              "          element.innerHTML = '';\n",
              "          dataTable['output_type'] = 'display_data';\n",
              "          await google.colab.output.renderOutput(dataTable, element);\n",
              "          const docLink = document.createElement('div');\n",
              "          docLink.innerHTML = docLinkHtml;\n",
              "          element.appendChild(docLink);\n",
              "        }\n",
              "      </script>\n",
              "    </div>\n",
              "  </div>\n",
              "  "
            ]
          },
          "metadata": {},
          "execution_count": 15
        }
      ]
    },
    {
      "cell_type": "code",
      "source": [
        "#se agrupan los clientes de acuerdo a su fecha de inicio y fin\n",
        "grupo1=datosColombina.groupby('Solic').agg({'FechaInicio':lambda x:x.min(),'FechaFinal':lambda x:x.max()}).reset_index()\n",
        "grupo1.head()"
      ],
      "metadata": {
        "id": "yilSKRB93Z6-",
        "colab": {
          "base_uri": "https://localhost:8080/",
          "height": 206
        },
        "outputId": "b46f2817-f3a4-44f3-d1a0-17acaa441c8e"
      },
      "execution_count": 16,
      "outputs": [
        {
          "output_type": "execute_result",
          "data": {
            "text/plain": [
              "     Solic FechaInicio FechaFinal\n",
              "0  49128.0  2021-11-02 2022-07-11\n",
              "1  69792.0  2021-11-05 2022-07-05\n",
              "2  69838.0  2022-07-12 2022-07-12\n",
              "3  69868.0  2021-11-09 2022-07-05\n",
              "4  70334.0  2022-02-26 2022-05-31"
            ],
            "text/html": [
              "\n",
              "  <div id=\"df-a9e3037f-9dc3-4866-8d78-dd8e231c7a87\">\n",
              "    <div class=\"colab-df-container\">\n",
              "      <div>\n",
              "<style scoped>\n",
              "    .dataframe tbody tr th:only-of-type {\n",
              "        vertical-align: middle;\n",
              "    }\n",
              "\n",
              "    .dataframe tbody tr th {\n",
              "        vertical-align: top;\n",
              "    }\n",
              "\n",
              "    .dataframe thead th {\n",
              "        text-align: right;\n",
              "    }\n",
              "</style>\n",
              "<table border=\"1\" class=\"dataframe\">\n",
              "  <thead>\n",
              "    <tr style=\"text-align: right;\">\n",
              "      <th></th>\n",
              "      <th>Solic</th>\n",
              "      <th>FechaInicio</th>\n",
              "      <th>FechaFinal</th>\n",
              "    </tr>\n",
              "  </thead>\n",
              "  <tbody>\n",
              "    <tr>\n",
              "      <th>0</th>\n",
              "      <td>49128.0</td>\n",
              "      <td>2021-11-02</td>\n",
              "      <td>2022-07-11</td>\n",
              "    </tr>\n",
              "    <tr>\n",
              "      <th>1</th>\n",
              "      <td>69792.0</td>\n",
              "      <td>2021-11-05</td>\n",
              "      <td>2022-07-05</td>\n",
              "    </tr>\n",
              "    <tr>\n",
              "      <th>2</th>\n",
              "      <td>69838.0</td>\n",
              "      <td>2022-07-12</td>\n",
              "      <td>2022-07-12</td>\n",
              "    </tr>\n",
              "    <tr>\n",
              "      <th>3</th>\n",
              "      <td>69868.0</td>\n",
              "      <td>2021-11-09</td>\n",
              "      <td>2022-07-05</td>\n",
              "    </tr>\n",
              "    <tr>\n",
              "      <th>4</th>\n",
              "      <td>70334.0</td>\n",
              "      <td>2022-02-26</td>\n",
              "      <td>2022-05-31</td>\n",
              "    </tr>\n",
              "  </tbody>\n",
              "</table>\n",
              "</div>\n",
              "      <button class=\"colab-df-convert\" onclick=\"convertToInteractive('df-a9e3037f-9dc3-4866-8d78-dd8e231c7a87')\"\n",
              "              title=\"Convert this dataframe to an interactive table.\"\n",
              "              style=\"display:none;\">\n",
              "        \n",
              "  <svg xmlns=\"http://www.w3.org/2000/svg\" height=\"24px\"viewBox=\"0 0 24 24\"\n",
              "       width=\"24px\">\n",
              "    <path d=\"M0 0h24v24H0V0z\" fill=\"none\"/>\n",
              "    <path d=\"M18.56 5.44l.94 2.06.94-2.06 2.06-.94-2.06-.94-.94-2.06-.94 2.06-2.06.94zm-11 1L8.5 8.5l.94-2.06 2.06-.94-2.06-.94L8.5 2.5l-.94 2.06-2.06.94zm10 10l.94 2.06.94-2.06 2.06-.94-2.06-.94-.94-2.06-.94 2.06-2.06.94z\"/><path d=\"M17.41 7.96l-1.37-1.37c-.4-.4-.92-.59-1.43-.59-.52 0-1.04.2-1.43.59L10.3 9.45l-7.72 7.72c-.78.78-.78 2.05 0 2.83L4 21.41c.39.39.9.59 1.41.59.51 0 1.02-.2 1.41-.59l7.78-7.78 2.81-2.81c.8-.78.8-2.07 0-2.86zM5.41 20L4 18.59l7.72-7.72 1.47 1.35L5.41 20z\"/>\n",
              "  </svg>\n",
              "      </button>\n",
              "      \n",
              "  <style>\n",
              "    .colab-df-container {\n",
              "      display:flex;\n",
              "      flex-wrap:wrap;\n",
              "      gap: 12px;\n",
              "    }\n",
              "\n",
              "    .colab-df-convert {\n",
              "      background-color: #E8F0FE;\n",
              "      border: none;\n",
              "      border-radius: 50%;\n",
              "      cursor: pointer;\n",
              "      display: none;\n",
              "      fill: #1967D2;\n",
              "      height: 32px;\n",
              "      padding: 0 0 0 0;\n",
              "      width: 32px;\n",
              "    }\n",
              "\n",
              "    .colab-df-convert:hover {\n",
              "      background-color: #E2EBFA;\n",
              "      box-shadow: 0px 1px 2px rgba(60, 64, 67, 0.3), 0px 1px 3px 1px rgba(60, 64, 67, 0.15);\n",
              "      fill: #174EA6;\n",
              "    }\n",
              "\n",
              "    [theme=dark] .colab-df-convert {\n",
              "      background-color: #3B4455;\n",
              "      fill: #D2E3FC;\n",
              "    }\n",
              "\n",
              "    [theme=dark] .colab-df-convert:hover {\n",
              "      background-color: #434B5C;\n",
              "      box-shadow: 0px 1px 3px 1px rgba(0, 0, 0, 0.15);\n",
              "      filter: drop-shadow(0px 1px 2px rgba(0, 0, 0, 0.3));\n",
              "      fill: #FFFFFF;\n",
              "    }\n",
              "  </style>\n",
              "\n",
              "      <script>\n",
              "        const buttonEl =\n",
              "          document.querySelector('#df-a9e3037f-9dc3-4866-8d78-dd8e231c7a87 button.colab-df-convert');\n",
              "        buttonEl.style.display =\n",
              "          google.colab.kernel.accessAllowed ? 'block' : 'none';\n",
              "\n",
              "        async function convertToInteractive(key) {\n",
              "          const element = document.querySelector('#df-a9e3037f-9dc3-4866-8d78-dd8e231c7a87');\n",
              "          const dataTable =\n",
              "            await google.colab.kernel.invokeFunction('convertToInteractive',\n",
              "                                                     [key], {});\n",
              "          if (!dataTable) return;\n",
              "\n",
              "          const docLinkHtml = 'Like what you see? Visit the ' +\n",
              "            '<a target=\"_blank\" href=https://colab.research.google.com/notebooks/data_table.ipynb>data table notebook</a>'\n",
              "            + ' to learn more about interactive tables.';\n",
              "          element.innerHTML = '';\n",
              "          dataTable['output_type'] = 'display_data';\n",
              "          await google.colab.output.renderOutput(dataTable, element);\n",
              "          const docLink = document.createElement('div');\n",
              "          docLink.innerHTML = docLinkHtml;\n",
              "          element.appendChild(docLink);\n",
              "        }\n",
              "      </script>\n",
              "    </div>\n",
              "  </div>\n",
              "  "
            ]
          },
          "metadata": {},
          "execution_count": 16
        }
      ]
    },
    {
      "cell_type": "code",
      "source": [
        "#Agrupar el rango en un formato set que tiene las diferencias de las fechas \n",
        "grupo2=datosColombina.groupby('Solic')['Rango'].apply(set).reset_index()\n",
        "grupo2.head()"
      ],
      "metadata": {
        "id": "RmU4lscW9Vh2",
        "colab": {
          "base_uri": "https://localhost:8080/",
          "height": 206
        },
        "outputId": "b75caca9-fd4f-4035-c041-8f17b9da45aa"
      },
      "execution_count": 17,
      "outputs": [
        {
          "output_type": "execute_result",
          "data": {
            "text/plain": [
              "     Solic                                              Rango\n",
              "0  49128.0  {130.0, 259.0, 132.0, 136.0, 143.0, 276.0, 283...\n",
              "1  69792.0  {256.0, 130.0, 137.0, 272.0, 147.0, 277.0, 35....\n",
              "2  69838.0                                            {284.0}\n",
              "3  69868.0  {66.0, 130.0, 39.0, 103.0, 263.0, 74.0, 235.0,...\n",
              "4  70334.0                              {242.0, 180.0, 148.0}"
            ],
            "text/html": [
              "\n",
              "  <div id=\"df-b44c4919-ed9f-4420-85ce-9ec73bf9c0ea\">\n",
              "    <div class=\"colab-df-container\">\n",
              "      <div>\n",
              "<style scoped>\n",
              "    .dataframe tbody tr th:only-of-type {\n",
              "        vertical-align: middle;\n",
              "    }\n",
              "\n",
              "    .dataframe tbody tr th {\n",
              "        vertical-align: top;\n",
              "    }\n",
              "\n",
              "    .dataframe thead th {\n",
              "        text-align: right;\n",
              "    }\n",
              "</style>\n",
              "<table border=\"1\" class=\"dataframe\">\n",
              "  <thead>\n",
              "    <tr style=\"text-align: right;\">\n",
              "      <th></th>\n",
              "      <th>Solic</th>\n",
              "      <th>Rango</th>\n",
              "    </tr>\n",
              "  </thead>\n",
              "  <tbody>\n",
              "    <tr>\n",
              "      <th>0</th>\n",
              "      <td>49128.0</td>\n",
              "      <td>{130.0, 259.0, 132.0, 136.0, 143.0, 276.0, 283...</td>\n",
              "    </tr>\n",
              "    <tr>\n",
              "      <th>1</th>\n",
              "      <td>69792.0</td>\n",
              "      <td>{256.0, 130.0, 137.0, 272.0, 147.0, 277.0, 35....</td>\n",
              "    </tr>\n",
              "    <tr>\n",
              "      <th>2</th>\n",
              "      <td>69838.0</td>\n",
              "      <td>{284.0}</td>\n",
              "    </tr>\n",
              "    <tr>\n",
              "      <th>3</th>\n",
              "      <td>69868.0</td>\n",
              "      <td>{66.0, 130.0, 39.0, 103.0, 263.0, 74.0, 235.0,...</td>\n",
              "    </tr>\n",
              "    <tr>\n",
              "      <th>4</th>\n",
              "      <td>70334.0</td>\n",
              "      <td>{242.0, 180.0, 148.0}</td>\n",
              "    </tr>\n",
              "  </tbody>\n",
              "</table>\n",
              "</div>\n",
              "      <button class=\"colab-df-convert\" onclick=\"convertToInteractive('df-b44c4919-ed9f-4420-85ce-9ec73bf9c0ea')\"\n",
              "              title=\"Convert this dataframe to an interactive table.\"\n",
              "              style=\"display:none;\">\n",
              "        \n",
              "  <svg xmlns=\"http://www.w3.org/2000/svg\" height=\"24px\"viewBox=\"0 0 24 24\"\n",
              "       width=\"24px\">\n",
              "    <path d=\"M0 0h24v24H0V0z\" fill=\"none\"/>\n",
              "    <path d=\"M18.56 5.44l.94 2.06.94-2.06 2.06-.94-2.06-.94-.94-2.06-.94 2.06-2.06.94zm-11 1L8.5 8.5l.94-2.06 2.06-.94-2.06-.94L8.5 2.5l-.94 2.06-2.06.94zm10 10l.94 2.06.94-2.06 2.06-.94-2.06-.94-.94-2.06-.94 2.06-2.06.94z\"/><path d=\"M17.41 7.96l-1.37-1.37c-.4-.4-.92-.59-1.43-.59-.52 0-1.04.2-1.43.59L10.3 9.45l-7.72 7.72c-.78.78-.78 2.05 0 2.83L4 21.41c.39.39.9.59 1.41.59.51 0 1.02-.2 1.41-.59l7.78-7.78 2.81-2.81c.8-.78.8-2.07 0-2.86zM5.41 20L4 18.59l7.72-7.72 1.47 1.35L5.41 20z\"/>\n",
              "  </svg>\n",
              "      </button>\n",
              "      \n",
              "  <style>\n",
              "    .colab-df-container {\n",
              "      display:flex;\n",
              "      flex-wrap:wrap;\n",
              "      gap: 12px;\n",
              "    }\n",
              "\n",
              "    .colab-df-convert {\n",
              "      background-color: #E8F0FE;\n",
              "      border: none;\n",
              "      border-radius: 50%;\n",
              "      cursor: pointer;\n",
              "      display: none;\n",
              "      fill: #1967D2;\n",
              "      height: 32px;\n",
              "      padding: 0 0 0 0;\n",
              "      width: 32px;\n",
              "    }\n",
              "\n",
              "    .colab-df-convert:hover {\n",
              "      background-color: #E2EBFA;\n",
              "      box-shadow: 0px 1px 2px rgba(60, 64, 67, 0.3), 0px 1px 3px 1px rgba(60, 64, 67, 0.15);\n",
              "      fill: #174EA6;\n",
              "    }\n",
              "\n",
              "    [theme=dark] .colab-df-convert {\n",
              "      background-color: #3B4455;\n",
              "      fill: #D2E3FC;\n",
              "    }\n",
              "\n",
              "    [theme=dark] .colab-df-convert:hover {\n",
              "      background-color: #434B5C;\n",
              "      box-shadow: 0px 1px 3px 1px rgba(0, 0, 0, 0.15);\n",
              "      filter: drop-shadow(0px 1px 2px rgba(0, 0, 0, 0.3));\n",
              "      fill: #FFFFFF;\n",
              "    }\n",
              "  </style>\n",
              "\n",
              "      <script>\n",
              "        const buttonEl =\n",
              "          document.querySelector('#df-b44c4919-ed9f-4420-85ce-9ec73bf9c0ea button.colab-df-convert');\n",
              "        buttonEl.style.display =\n",
              "          google.colab.kernel.accessAllowed ? 'block' : 'none';\n",
              "\n",
              "        async function convertToInteractive(key) {\n",
              "          const element = document.querySelector('#df-b44c4919-ed9f-4420-85ce-9ec73bf9c0ea');\n",
              "          const dataTable =\n",
              "            await google.colab.kernel.invokeFunction('convertToInteractive',\n",
              "                                                     [key], {});\n",
              "          if (!dataTable) return;\n",
              "\n",
              "          const docLinkHtml = 'Like what you see? Visit the ' +\n",
              "            '<a target=\"_blank\" href=https://colab.research.google.com/notebooks/data_table.ipynb>data table notebook</a>'\n",
              "            + ' to learn more about interactive tables.';\n",
              "          element.innerHTML = '';\n",
              "          dataTable['output_type'] = 'display_data';\n",
              "          await google.colab.output.renderOutput(dataTable, element);\n",
              "          const docLink = document.createElement('div');\n",
              "          docLink.innerHTML = docLinkHtml;\n",
              "          element.appendChild(docLink);\n",
              "        }\n",
              "      </script>\n",
              "    </div>\n",
              "  </div>\n",
              "  "
            ]
          },
          "metadata": {},
          "execution_count": 17
        }
      ]
    },
    {
      "cell_type": "code",
      "source": [
        "from numpy.ma.core import right_shift\n",
        "#union de los dos grupos en una sola tabla\n",
        "datos=pd.merge(grupo1,grupo2[['Rango']],left_index=True,right_index=True,how='outer')\n",
        "datos.head()"
      ],
      "metadata": {
        "id": "rVjvgPSU-4c3",
        "colab": {
          "base_uri": "https://localhost:8080/",
          "height": 206
        },
        "outputId": "5e05ca3a-c552-4453-bb5b-9282cd711320"
      },
      "execution_count": 18,
      "outputs": [
        {
          "output_type": "execute_result",
          "data": {
            "text/plain": [
              "     Solic FechaInicio FechaFinal  \\\n",
              "0  49128.0  2021-11-02 2022-07-11   \n",
              "1  69792.0  2021-11-05 2022-07-05   \n",
              "2  69838.0  2022-07-12 2022-07-12   \n",
              "3  69868.0  2021-11-09 2022-07-05   \n",
              "4  70334.0  2022-02-26 2022-05-31   \n",
              "\n",
              "                                               Rango  \n",
              "0  {130.0, 259.0, 132.0, 136.0, 143.0, 276.0, 283...  \n",
              "1  {256.0, 130.0, 137.0, 272.0, 147.0, 277.0, 35....  \n",
              "2                                            {284.0}  \n",
              "3  {66.0, 130.0, 39.0, 103.0, 263.0, 74.0, 235.0,...  \n",
              "4                              {242.0, 180.0, 148.0}  "
            ],
            "text/html": [
              "\n",
              "  <div id=\"df-e26394a4-8ea0-4c32-95d1-2b121f052226\">\n",
              "    <div class=\"colab-df-container\">\n",
              "      <div>\n",
              "<style scoped>\n",
              "    .dataframe tbody tr th:only-of-type {\n",
              "        vertical-align: middle;\n",
              "    }\n",
              "\n",
              "    .dataframe tbody tr th {\n",
              "        vertical-align: top;\n",
              "    }\n",
              "\n",
              "    .dataframe thead th {\n",
              "        text-align: right;\n",
              "    }\n",
              "</style>\n",
              "<table border=\"1\" class=\"dataframe\">\n",
              "  <thead>\n",
              "    <tr style=\"text-align: right;\">\n",
              "      <th></th>\n",
              "      <th>Solic</th>\n",
              "      <th>FechaInicio</th>\n",
              "      <th>FechaFinal</th>\n",
              "      <th>Rango</th>\n",
              "    </tr>\n",
              "  </thead>\n",
              "  <tbody>\n",
              "    <tr>\n",
              "      <th>0</th>\n",
              "      <td>49128.0</td>\n",
              "      <td>2021-11-02</td>\n",
              "      <td>2022-07-11</td>\n",
              "      <td>{130.0, 259.0, 132.0, 136.0, 143.0, 276.0, 283...</td>\n",
              "    </tr>\n",
              "    <tr>\n",
              "      <th>1</th>\n",
              "      <td>69792.0</td>\n",
              "      <td>2021-11-05</td>\n",
              "      <td>2022-07-05</td>\n",
              "      <td>{256.0, 130.0, 137.0, 272.0, 147.0, 277.0, 35....</td>\n",
              "    </tr>\n",
              "    <tr>\n",
              "      <th>2</th>\n",
              "      <td>69838.0</td>\n",
              "      <td>2022-07-12</td>\n",
              "      <td>2022-07-12</td>\n",
              "      <td>{284.0}</td>\n",
              "    </tr>\n",
              "    <tr>\n",
              "      <th>3</th>\n",
              "      <td>69868.0</td>\n",
              "      <td>2021-11-09</td>\n",
              "      <td>2022-07-05</td>\n",
              "      <td>{66.0, 130.0, 39.0, 103.0, 263.0, 74.0, 235.0,...</td>\n",
              "    </tr>\n",
              "    <tr>\n",
              "      <th>4</th>\n",
              "      <td>70334.0</td>\n",
              "      <td>2022-02-26</td>\n",
              "      <td>2022-05-31</td>\n",
              "      <td>{242.0, 180.0, 148.0}</td>\n",
              "    </tr>\n",
              "  </tbody>\n",
              "</table>\n",
              "</div>\n",
              "      <button class=\"colab-df-convert\" onclick=\"convertToInteractive('df-e26394a4-8ea0-4c32-95d1-2b121f052226')\"\n",
              "              title=\"Convert this dataframe to an interactive table.\"\n",
              "              style=\"display:none;\">\n",
              "        \n",
              "  <svg xmlns=\"http://www.w3.org/2000/svg\" height=\"24px\"viewBox=\"0 0 24 24\"\n",
              "       width=\"24px\">\n",
              "    <path d=\"M0 0h24v24H0V0z\" fill=\"none\"/>\n",
              "    <path d=\"M18.56 5.44l.94 2.06.94-2.06 2.06-.94-2.06-.94-.94-2.06-.94 2.06-2.06.94zm-11 1L8.5 8.5l.94-2.06 2.06-.94-2.06-.94L8.5 2.5l-.94 2.06-2.06.94zm10 10l.94 2.06.94-2.06 2.06-.94-2.06-.94-.94-2.06-.94 2.06-2.06.94z\"/><path d=\"M17.41 7.96l-1.37-1.37c-.4-.4-.92-.59-1.43-.59-.52 0-1.04.2-1.43.59L10.3 9.45l-7.72 7.72c-.78.78-.78 2.05 0 2.83L4 21.41c.39.39.9.59 1.41.59.51 0 1.02-.2 1.41-.59l7.78-7.78 2.81-2.81c.8-.78.8-2.07 0-2.86zM5.41 20L4 18.59l7.72-7.72 1.47 1.35L5.41 20z\"/>\n",
              "  </svg>\n",
              "      </button>\n",
              "      \n",
              "  <style>\n",
              "    .colab-df-container {\n",
              "      display:flex;\n",
              "      flex-wrap:wrap;\n",
              "      gap: 12px;\n",
              "    }\n",
              "\n",
              "    .colab-df-convert {\n",
              "      background-color: #E8F0FE;\n",
              "      border: none;\n",
              "      border-radius: 50%;\n",
              "      cursor: pointer;\n",
              "      display: none;\n",
              "      fill: #1967D2;\n",
              "      height: 32px;\n",
              "      padding: 0 0 0 0;\n",
              "      width: 32px;\n",
              "    }\n",
              "\n",
              "    .colab-df-convert:hover {\n",
              "      background-color: #E2EBFA;\n",
              "      box-shadow: 0px 1px 2px rgba(60, 64, 67, 0.3), 0px 1px 3px 1px rgba(60, 64, 67, 0.15);\n",
              "      fill: #174EA6;\n",
              "    }\n",
              "\n",
              "    [theme=dark] .colab-df-convert {\n",
              "      background-color: #3B4455;\n",
              "      fill: #D2E3FC;\n",
              "    }\n",
              "\n",
              "    [theme=dark] .colab-df-convert:hover {\n",
              "      background-color: #434B5C;\n",
              "      box-shadow: 0px 1px 3px 1px rgba(0, 0, 0, 0.15);\n",
              "      filter: drop-shadow(0px 1px 2px rgba(0, 0, 0, 0.3));\n",
              "      fill: #FFFFFF;\n",
              "    }\n",
              "  </style>\n",
              "\n",
              "      <script>\n",
              "        const buttonEl =\n",
              "          document.querySelector('#df-e26394a4-8ea0-4c32-95d1-2b121f052226 button.colab-df-convert');\n",
              "        buttonEl.style.display =\n",
              "          google.colab.kernel.accessAllowed ? 'block' : 'none';\n",
              "\n",
              "        async function convertToInteractive(key) {\n",
              "          const element = document.querySelector('#df-e26394a4-8ea0-4c32-95d1-2b121f052226');\n",
              "          const dataTable =\n",
              "            await google.colab.kernel.invokeFunction('convertToInteractive',\n",
              "                                                     [key], {});\n",
              "          if (!dataTable) return;\n",
              "\n",
              "          const docLinkHtml = 'Like what you see? Visit the ' +\n",
              "            '<a target=\"_blank\" href=https://colab.research.google.com/notebooks/data_table.ipynb>data table notebook</a>'\n",
              "            + ' to learn more about interactive tables.';\n",
              "          element.innerHTML = '';\n",
              "          dataTable['output_type'] = 'display_data';\n",
              "          await google.colab.output.renderOutput(dataTable, element);\n",
              "          const docLink = document.createElement('div');\n",
              "          docLink.innerHTML = docLinkHtml;\n",
              "          element.appendChild(docLink);\n",
              "        }\n",
              "      </script>\n",
              "    </div>\n",
              "  </div>\n",
              "  "
            ]
          },
          "metadata": {},
          "execution_count": 18
        }
      ]
    },
    {
      "cell_type": "code",
      "source": [
        "#bucle que itera dentro de cada elemento de la lista para obtener las diferencias,media,desviación estándar y frecuencia \n",
        "lista=datos['Rango'].values.tolist()\n",
        "promedio=[]\n",
        "desv=[]\n",
        "dif=[]\n",
        "N=[]\n",
        "for i in lista:\n",
        "  lista2=list(sorted(i))\n",
        "  a=[]\n",
        "  for j in lista2:\n",
        "    if lista2.index(j) >= 1:\n",
        "        a.append(j-lista2[lista2.index(j)-1])\n",
        "  promedio.append(np.mean(a))\n",
        "  desv.append(np.std(a))\n",
        "  dif.append(a)\n",
        "  N.append(len(a))\n",
        "  "
      ],
      "metadata": {
        "colab": {
          "base_uri": "https://localhost:8080/"
        },
        "id": "s-OUQf5CY5W6",
        "outputId": "c04646cc-bbed-4d5e-e5ee-6e4057c9926c"
      },
      "execution_count": 19,
      "outputs": [
        {
          "output_type": "stream",
          "name": "stderr",
          "text": [
            "/usr/local/lib/python3.7/dist-packages/numpy/core/fromnumeric.py:3441: RuntimeWarning: Mean of empty slice.\n",
            "  out=out, **kwargs)\n",
            "/usr/local/lib/python3.7/dist-packages/numpy/core/_methods.py:189: RuntimeWarning: invalid value encountered in double_scalars\n",
            "  ret = ret.dtype.type(ret / rcount)\n",
            "/usr/local/lib/python3.7/dist-packages/numpy/core/_methods.py:263: RuntimeWarning: Degrees of freedom <= 0 for slice\n",
            "  keepdims=keepdims, where=where)\n",
            "/usr/local/lib/python3.7/dist-packages/numpy/core/_methods.py:223: RuntimeWarning: invalid value encountered in true_divide\n",
            "  subok=False)\n",
            "/usr/local/lib/python3.7/dist-packages/numpy/core/_methods.py:254: RuntimeWarning: invalid value encountered in double_scalars\n",
            "  ret = ret.dtype.type(ret / rcount)\n"
          ]
        }
      ]
    },
    {
      "cell_type": "code",
      "source": [
        "#vectores con los resultados\n",
        "resultados=[dif,promedio,desv,N]"
      ],
      "metadata": {
        "id": "KWYvwtU1cJz0"
      },
      "execution_count": 20,
      "outputs": []
    },
    {
      "cell_type": "code",
      "source": [
        "#colocar el nombre a las columnas\n",
        "calculos=pd.DataFrame(resultados).T\n",
        "calculos.columns=['Diferencia de Fechas','Frecuencia de compra','Desviación estándar','Cantidad de elementos']"
      ],
      "metadata": {
        "id": "LQp6WvMccWWg"
      },
      "execution_count": 21,
      "outputs": []
    },
    {
      "cell_type": "code",
      "source": [
        "#union de los calculos en una base final\n",
        "baseFinal=pd.merge(datos[['Solic','FechaInicio','FechaFinal']],calculos,left_index=True,right_index=True,how='outer')\n",
        "baseFinal.head()"
      ],
      "metadata": {
        "colab": {
          "base_uri": "https://localhost:8080/",
          "height": 206
        },
        "id": "Cq88A9vshPxF",
        "outputId": "3b6b01f9-18b9-4812-c729-bb33ffeb3130"
      },
      "execution_count": 22,
      "outputs": [
        {
          "output_type": "execute_result",
          "data": {
            "text/plain": [
              "     Solic FechaInicio FechaFinal  \\\n",
              "0  49128.0  2021-11-02 2022-07-11   \n",
              "1  69792.0  2021-11-05 2022-07-05   \n",
              "2  69838.0  2022-07-12 2022-07-12   \n",
              "3  69868.0  2021-11-09 2022-07-05   \n",
              "4  70334.0  2022-02-26 2022-05-31   \n",
              "\n",
              "                                Diferencia de Fechas Frecuencia de compra  \\\n",
              "0  [7.0, 1.0, 6.0, 7.0, 2.0, 4.0, 7.0, 33.0, 10.0...            10.913043   \n",
              "1  [11.0, 3.0, 11.0, 3.0, 14.0, 4.0, 17.0, 4.0, 1...                 12.1   \n",
              "2                                                 []                  NaN   \n",
              "3  [14.0, 13.0, 8.0, 7.0, 22.0, 13.0, 14.0, 28.0,...                 17.0   \n",
              "4                                       [32.0, 62.0]                 47.0   \n",
              "\n",
              "  Desviación estándar Cantidad de elementos  \n",
              "0           15.901635                    23  \n",
              "1            9.585927                    20  \n",
              "2                 NaN                     0  \n",
              "3            8.392173                    14  \n",
              "4                15.0                     2  "
            ],
            "text/html": [
              "\n",
              "  <div id=\"df-e6eaa3c8-def2-4d08-b5dd-51634574b9d2\">\n",
              "    <div class=\"colab-df-container\">\n",
              "      <div>\n",
              "<style scoped>\n",
              "    .dataframe tbody tr th:only-of-type {\n",
              "        vertical-align: middle;\n",
              "    }\n",
              "\n",
              "    .dataframe tbody tr th {\n",
              "        vertical-align: top;\n",
              "    }\n",
              "\n",
              "    .dataframe thead th {\n",
              "        text-align: right;\n",
              "    }\n",
              "</style>\n",
              "<table border=\"1\" class=\"dataframe\">\n",
              "  <thead>\n",
              "    <tr style=\"text-align: right;\">\n",
              "      <th></th>\n",
              "      <th>Solic</th>\n",
              "      <th>FechaInicio</th>\n",
              "      <th>FechaFinal</th>\n",
              "      <th>Diferencia de Fechas</th>\n",
              "      <th>Frecuencia de compra</th>\n",
              "      <th>Desviación estándar</th>\n",
              "      <th>Cantidad de elementos</th>\n",
              "    </tr>\n",
              "  </thead>\n",
              "  <tbody>\n",
              "    <tr>\n",
              "      <th>0</th>\n",
              "      <td>49128.0</td>\n",
              "      <td>2021-11-02</td>\n",
              "      <td>2022-07-11</td>\n",
              "      <td>[7.0, 1.0, 6.0, 7.0, 2.0, 4.0, 7.0, 33.0, 10.0...</td>\n",
              "      <td>10.913043</td>\n",
              "      <td>15.901635</td>\n",
              "      <td>23</td>\n",
              "    </tr>\n",
              "    <tr>\n",
              "      <th>1</th>\n",
              "      <td>69792.0</td>\n",
              "      <td>2021-11-05</td>\n",
              "      <td>2022-07-05</td>\n",
              "      <td>[11.0, 3.0, 11.0, 3.0, 14.0, 4.0, 17.0, 4.0, 1...</td>\n",
              "      <td>12.1</td>\n",
              "      <td>9.585927</td>\n",
              "      <td>20</td>\n",
              "    </tr>\n",
              "    <tr>\n",
              "      <th>2</th>\n",
              "      <td>69838.0</td>\n",
              "      <td>2022-07-12</td>\n",
              "      <td>2022-07-12</td>\n",
              "      <td>[]</td>\n",
              "      <td>NaN</td>\n",
              "      <td>NaN</td>\n",
              "      <td>0</td>\n",
              "    </tr>\n",
              "    <tr>\n",
              "      <th>3</th>\n",
              "      <td>69868.0</td>\n",
              "      <td>2021-11-09</td>\n",
              "      <td>2022-07-05</td>\n",
              "      <td>[14.0, 13.0, 8.0, 7.0, 22.0, 13.0, 14.0, 28.0,...</td>\n",
              "      <td>17.0</td>\n",
              "      <td>8.392173</td>\n",
              "      <td>14</td>\n",
              "    </tr>\n",
              "    <tr>\n",
              "      <th>4</th>\n",
              "      <td>70334.0</td>\n",
              "      <td>2022-02-26</td>\n",
              "      <td>2022-05-31</td>\n",
              "      <td>[32.0, 62.0]</td>\n",
              "      <td>47.0</td>\n",
              "      <td>15.0</td>\n",
              "      <td>2</td>\n",
              "    </tr>\n",
              "  </tbody>\n",
              "</table>\n",
              "</div>\n",
              "      <button class=\"colab-df-convert\" onclick=\"convertToInteractive('df-e6eaa3c8-def2-4d08-b5dd-51634574b9d2')\"\n",
              "              title=\"Convert this dataframe to an interactive table.\"\n",
              "              style=\"display:none;\">\n",
              "        \n",
              "  <svg xmlns=\"http://www.w3.org/2000/svg\" height=\"24px\"viewBox=\"0 0 24 24\"\n",
              "       width=\"24px\">\n",
              "    <path d=\"M0 0h24v24H0V0z\" fill=\"none\"/>\n",
              "    <path d=\"M18.56 5.44l.94 2.06.94-2.06 2.06-.94-2.06-.94-.94-2.06-.94 2.06-2.06.94zm-11 1L8.5 8.5l.94-2.06 2.06-.94-2.06-.94L8.5 2.5l-.94 2.06-2.06.94zm10 10l.94 2.06.94-2.06 2.06-.94-2.06-.94-.94-2.06-.94 2.06-2.06.94z\"/><path d=\"M17.41 7.96l-1.37-1.37c-.4-.4-.92-.59-1.43-.59-.52 0-1.04.2-1.43.59L10.3 9.45l-7.72 7.72c-.78.78-.78 2.05 0 2.83L4 21.41c.39.39.9.59 1.41.59.51 0 1.02-.2 1.41-.59l7.78-7.78 2.81-2.81c.8-.78.8-2.07 0-2.86zM5.41 20L4 18.59l7.72-7.72 1.47 1.35L5.41 20z\"/>\n",
              "  </svg>\n",
              "      </button>\n",
              "      \n",
              "  <style>\n",
              "    .colab-df-container {\n",
              "      display:flex;\n",
              "      flex-wrap:wrap;\n",
              "      gap: 12px;\n",
              "    }\n",
              "\n",
              "    .colab-df-convert {\n",
              "      background-color: #E8F0FE;\n",
              "      border: none;\n",
              "      border-radius: 50%;\n",
              "      cursor: pointer;\n",
              "      display: none;\n",
              "      fill: #1967D2;\n",
              "      height: 32px;\n",
              "      padding: 0 0 0 0;\n",
              "      width: 32px;\n",
              "    }\n",
              "\n",
              "    .colab-df-convert:hover {\n",
              "      background-color: #E2EBFA;\n",
              "      box-shadow: 0px 1px 2px rgba(60, 64, 67, 0.3), 0px 1px 3px 1px rgba(60, 64, 67, 0.15);\n",
              "      fill: #174EA6;\n",
              "    }\n",
              "\n",
              "    [theme=dark] .colab-df-convert {\n",
              "      background-color: #3B4455;\n",
              "      fill: #D2E3FC;\n",
              "    }\n",
              "\n",
              "    [theme=dark] .colab-df-convert:hover {\n",
              "      background-color: #434B5C;\n",
              "      box-shadow: 0px 1px 3px 1px rgba(0, 0, 0, 0.15);\n",
              "      filter: drop-shadow(0px 1px 2px rgba(0, 0, 0, 0.3));\n",
              "      fill: #FFFFFF;\n",
              "    }\n",
              "  </style>\n",
              "\n",
              "      <script>\n",
              "        const buttonEl =\n",
              "          document.querySelector('#df-e6eaa3c8-def2-4d08-b5dd-51634574b9d2 button.colab-df-convert');\n",
              "        buttonEl.style.display =\n",
              "          google.colab.kernel.accessAllowed ? 'block' : 'none';\n",
              "\n",
              "        async function convertToInteractive(key) {\n",
              "          const element = document.querySelector('#df-e6eaa3c8-def2-4d08-b5dd-51634574b9d2');\n",
              "          const dataTable =\n",
              "            await google.colab.kernel.invokeFunction('convertToInteractive',\n",
              "                                                     [key], {});\n",
              "          if (!dataTable) return;\n",
              "\n",
              "          const docLinkHtml = 'Like what you see? Visit the ' +\n",
              "            '<a target=\"_blank\" href=https://colab.research.google.com/notebooks/data_table.ipynb>data table notebook</a>'\n",
              "            + ' to learn more about interactive tables.';\n",
              "          element.innerHTML = '';\n",
              "          dataTable['output_type'] = 'display_data';\n",
              "          await google.colab.output.renderOutput(dataTable, element);\n",
              "          const docLink = document.createElement('div');\n",
              "          docLink.innerHTML = docLinkHtml;\n",
              "          element.appendChild(docLink);\n",
              "        }\n",
              "      </script>\n",
              "    </div>\n",
              "  </div>\n",
              "  "
            ]
          },
          "metadata": {},
          "execution_count": 22
        }
      ]
    },
    {
      "cell_type": "code",
      "source": [
        "l = []\n",
        "for x in range(5):\n",
        "  if x % 2 == 0:\n",
        "    l.append(x*x)\n",
        "    for i in lista:\n",
        "  lista2=list(sorted(i))\n",
        "  a=[]\n",
        "  for j in lista2:\n",
        "    if lista2.index(j) >= 1:\n",
        "        a.append(j-lista2[lista2.index(j)-1])"
      ],
      "metadata": {
        "id": "HqD0uTjaswsM"
      },
      "execution_count": null,
      "outputs": []
    },
    {
      "cell_type": "code",
      "source": [
        "len(baseFinal['Diferencia de Fechas'])"
      ],
      "metadata": {
        "colab": {
          "base_uri": "https://localhost:8080/"
        },
        "id": "WBMX2DbD4j-e",
        "outputId": "7a6f78d8-74f9-4aff-f69c-d24cf770d7ad"
      },
      "execution_count": null,
      "outputs": [
        {
          "output_type": "execute_result",
          "data": {
            "text/plain": [
              "80294"
            ]
          },
          "metadata": {},
          "execution_count": 75
        }
      ]
    },
    {
      "cell_type": "code",
      "source": [
        "baseFinal['Diferencia de Fechas'][1][1] >=60"
      ],
      "metadata": {
        "colab": {
          "base_uri": "https://localhost:8080/"
        },
        "id": "xG9gdGRH2rIe",
        "outputId": "9359eab2-4ce1-4861-c955-11047068c1d0"
      },
      "execution_count": null,
      "outputs": [
        {
          "output_type": "execute_result",
          "data": {
            "text/plain": [
              "False"
            ]
          },
          "metadata": {},
          "execution_count": 74
        }
      ]
    },
    {
      "cell_type": "code",
      "source": [
        "baseFinal['Diferencia de Fechas']"
      ],
      "metadata": {
        "colab": {
          "base_uri": "https://localhost:8080/"
        },
        "id": "RvR4DiH65VZj",
        "outputId": "c6d168f8-dc09-47a0-dd10-908f11f670d3"
      },
      "execution_count": null,
      "outputs": [
        {
          "output_type": "execute_result",
          "data": {
            "text/plain": [
              "0        [7, 1, 6, 7, 2, 4, 7, 33, 10, 4, 6, 4, 7, 2, 4...\n",
              "1        [11, 3, 11, 3, 14, 4, 17, 4, 10, 4, 3, 7, 4, 7...\n",
              "2                                                       []\n",
              "3        [14, 13, 8, 7, 22, 13, 14, 14, 14, 13, 9, 6, 2...\n",
              "4                                              [9, 23, 62]\n",
              "                               ...                        \n",
              "80289                                                   []\n",
              "80290                                                  [1]\n",
              "80291                                                   []\n",
              "80292                                                   []\n",
              "80293                                                   []\n",
              "Name: Diferencia de Fechas, Length: 80294, dtype: object"
            ]
          },
          "metadata": {},
          "execution_count": 82
        }
      ]
    },
    {
      "cell_type": "code",
      "source": [
        "dif=list(baseFinal['Diferencia de Fechas'])\n"
      ],
      "metadata": {
        "id": "ndR9EV6ykW7l"
      },
      "execution_count": 31,
      "outputs": []
    },
    {
      "cell_type": "code",
      "source": [
        "dif.head()"
      ],
      "metadata": {
        "colab": {
          "base_uri": "https://localhost:8080/",
          "height": 165
        },
        "id": "cjAxOQEvncSn",
        "outputId": "99fcdb6c-9c41-4422-d0e5-d222d3fd9ca0"
      },
      "execution_count": 32,
      "outputs": [
        {
          "output_type": "error",
          "ename": "AttributeError",
          "evalue": "ignored",
          "traceback": [
            "\u001b[0;31m---------------------------------------------------------------------------\u001b[0m",
            "\u001b[0;31mAttributeError\u001b[0m                            Traceback (most recent call last)",
            "\u001b[0;32m<ipython-input-32-bdfa45636b43>\u001b[0m in \u001b[0;36m<module>\u001b[0;34m()\u001b[0m\n\u001b[0;32m----> 1\u001b[0;31m \u001b[0mdif\u001b[0m\u001b[0;34m.\u001b[0m\u001b[0mhead\u001b[0m\u001b[0;34m(\u001b[0m\u001b[0;34m)\u001b[0m\u001b[0;34m\u001b[0m\u001b[0;34m\u001b[0m\u001b[0m\n\u001b[0m",
            "\u001b[0;31mAttributeError\u001b[0m: 'list' object has no attribute 'head'"
          ]
        }
      ]
    },
    {
      "cell_type": "code",
      "source": [
        "dif=dataFrame.loc[dataFrame[baseFinal['Diferencia de Fechas']] == value]\n",
        "fugado=[]\n",
        "for i in dif:\n",
        "  dim=dif[i]\n",
        "  a=[]\n",
        "  for j in dim:\n",
        "    if dataFrame.loc[dataFrame[columnName] == value] >=60:\n",
        "      fugado=1\n",
        "    else:\n",
        "      fugado=0\n",
        "  fugado.append(a)"
      ],
      "metadata": {
        "colab": {
          "base_uri": "https://localhost:8080/",
          "height": 235
        },
        "id": "ZuyP8c44z8Vy",
        "outputId": "0379b79a-dbbb-47a2-b655-7eb7f110c2ff"
      },
      "execution_count": 33,
      "outputs": [
        {
          "output_type": "error",
          "ename": "TypeError",
          "evalue": "ignored",
          "traceback": [
            "\u001b[0;31m---------------------------------------------------------------------------\u001b[0m",
            "\u001b[0;31mTypeError\u001b[0m                                 Traceback (most recent call last)",
            "\u001b[0;32m<ipython-input-33-968786de02bc>\u001b[0m in \u001b[0;36m<module>\u001b[0;34m()\u001b[0m\n\u001b[1;32m      2\u001b[0m \u001b[0mfugado\u001b[0m\u001b[0;34m=\u001b[0m\u001b[0;34m[\u001b[0m\u001b[0;34m]\u001b[0m\u001b[0;34m\u001b[0m\u001b[0;34m\u001b[0m\u001b[0m\n\u001b[1;32m      3\u001b[0m \u001b[0;32mfor\u001b[0m \u001b[0mi\u001b[0m \u001b[0;32min\u001b[0m \u001b[0mdif\u001b[0m\u001b[0;34m:\u001b[0m\u001b[0;34m\u001b[0m\u001b[0;34m\u001b[0m\u001b[0m\n\u001b[0;32m----> 4\u001b[0;31m   \u001b[0mdim\u001b[0m\u001b[0;34m=\u001b[0m\u001b[0mdif\u001b[0m\u001b[0;34m[\u001b[0m\u001b[0mi\u001b[0m\u001b[0;34m]\u001b[0m\u001b[0;34m\u001b[0m\u001b[0;34m\u001b[0m\u001b[0m\n\u001b[0m\u001b[1;32m      5\u001b[0m   \u001b[0ma\u001b[0m\u001b[0;34m=\u001b[0m\u001b[0;34m[\u001b[0m\u001b[0;34m]\u001b[0m\u001b[0;34m\u001b[0m\u001b[0;34m\u001b[0m\u001b[0m\n\u001b[1;32m      6\u001b[0m   \u001b[0;32mfor\u001b[0m \u001b[0mj\u001b[0m \u001b[0;32min\u001b[0m \u001b[0mdim\u001b[0m\u001b[0;34m:\u001b[0m\u001b[0;34m\u001b[0m\u001b[0;34m\u001b[0m\u001b[0m\n",
            "\u001b[0;31mTypeError\u001b[0m: list indices must be integers or slices, not list"
          ]
        }
      ]
    },
    {
      "cell_type": "markdown",
      "source": [
        "**Clasificador bosques aleatorios**"
      ],
      "metadata": {
        "id": "rMFXUb7chJOq"
      }
    },
    {
      "cell_type": "code",
      "source": [
        "#partición de los datos en entrenamiento y prueba\n",
        "from sklearn.model_selection import train_test_split\n",
        "X=baseFinal['Solic']\n",
        "y=baseFinal['Fugado']\n",
        "X_train, X_test, y_train, y_test = train_test_split(X, y, test_size=0.3)"
      ],
      "metadata": {
        "id": "dzsGtM9j8PuI"
      },
      "execution_count": null,
      "outputs": []
    },
    {
      "cell_type": "code",
      "source": [
        "#corriendo el clasificador\n",
        "from sklearn.ensemble import RandomForestClassifier\n",
        "algoritmo = RandomForestClassifier(n_estimators = 10, criterion = 'entropy')"
      ],
      "metadata": {
        "id": "SEL5bMjn8UIT"
      },
      "execution_count": null,
      "outputs": []
    },
    {
      "cell_type": "code",
      "source": [
        "#Entreno el modelo\n",
        "algoritmo.fit(X_train, y_train)"
      ],
      "metadata": {
        "id": "iMUrUYt08WQA"
      },
      "execution_count": null,
      "outputs": []
    },
    {
      "cell_type": "code",
      "source": [
        "#Realizo una predicción\n",
        "y_pred = algoritmo.predict(X_test)"
      ],
      "metadata": {
        "id": "tm0JeIW68X9Q"
      },
      "execution_count": null,
      "outputs": []
    },
    {
      "cell_type": "code",
      "source": [
        "#Calculo la precisión del modelo\n",
        "from sklearn.metrics import precision_score\n",
        "precision = precision_score(y_test, y_pred)\n",
        "print('Precisión del modelo:')\n",
        "print(precision)"
      ],
      "metadata": {
        "id": "Nnj5XKru8gNX"
      },
      "execution_count": null,
      "outputs": []
    },
    {
      "cell_type": "markdown",
      "source": [
        "**Clasificador KNN (K vecinos más cercano)**"
      ],
      "metadata": {
        "id": "EYU7x0srhgBE"
      }
    },
    {
      "cell_type": "code",
      "source": [
        "#divición en entrenamiento y prueba\n",
        "X_train, X_test, y_train, y_test = train_test_split(X, y, random_state=0)\n",
        "scaler = MinMaxScaler()\n",
        "X_train = scaler.fit_transform(X_train)\n",
        "X_test = scaler.transform(X_test)"
      ],
      "metadata": {
        "id": "Yyot2_V6-j_4"
      },
      "execution_count": null,
      "outputs": []
    },
    {
      "cell_type": "code",
      "source": [
        "#eleccion del mejor k\n",
        "k_range = range(1, 20)\n",
        "scores = []\n",
        "for k in k_range:\n",
        "    knn = KNeighborsClassifier(n_neighbors = k)\n",
        "    knn.fit(X_train, y_train)\n",
        "    scores.append(knn.score(X_test, y_test))\n",
        "plt.figure()\n",
        "plt.xlabel('k')\n",
        "plt.ylabel('accuracy')\n",
        "plt.scatter(k_range, scores)\n",
        "plt.xticks([0,5,10,15,20])\n"
      ],
      "metadata": {
        "id": "-In7pOuY_ChI"
      },
      "execution_count": null,
      "outputs": []
    },
    {
      "cell_type": "code",
      "source": [
        "\n",
        "n_neighbors = 7\n",
        "\n",
        "knn = KNeighborsClassifier(n_neighbors)\n",
        "knn.fit(X_train, y_train)\n",
        "print('Accuracy of K-NN classifier on training set: {:.2f}'\n",
        "     .format(knn.score(X_train, y_train)))\n",
        "print('Accuracy of K-NN classifier on test set: {:.2f}'\n",
        "     .format(knn.score(X_test, y_test)))"
      ],
      "metadata": {
        "id": "qG9ucQnW-wAP"
      },
      "execution_count": null,
      "outputs": []
    },
    {
      "cell_type": "code",
      "source": [
        "#predicción\n",
        "print(clf.predict([[5, 1.0]]))"
      ],
      "metadata": {
        "id": "JOAayObH_cub"
      },
      "execution_count": null,
      "outputs": []
    },
    {
      "cell_type": "code",
      "source": [
        "# Import train_test_split function\n",
        "from sklearn.model_selection import train_test_split\n",
        "\n",
        "# Split dataset into training set and test set\n",
        "X_train, X_test, y_train, y_test = train_test_split(cancer.data, cancer.target, test_size=0.3,random_state=109) # 70% training and 30% test"
      ],
      "metadata": {
        "id": "obMATI1WBLyJ"
      },
      "execution_count": null,
      "outputs": []
    },
    {
      "cell_type": "code",
      "source": [
        "#maquinas de soporte \n",
        "#Import svm model\n",
        "from sklearn import svm\n",
        "\n",
        "#Create a svm Classifier\n",
        "clf = svm.SVC(kernel='linear') # Linear Kernel\n",
        "\n",
        "#Train the model using the training sets\n",
        "clf.fit(X_train, y_train)\n",
        "\n",
        "#Predict the response for test dataset\n",
        "y_pred = clf.predict(X_test)"
      ],
      "metadata": {
        "id": "2XuaKSP3Aao4"
      },
      "execution_count": null,
      "outputs": []
    },
    {
      "cell_type": "code",
      "source": [
        "#Import scikit-learn metrics module for accuracy calculation\n",
        "from sklearn import metrics\n",
        "\n",
        "# Model Accuracy: how often is the classifier correct?\n",
        "print(\"Accuracy:\",metrics.accuracy_score(y_test, y_pred))"
      ],
      "metadata": {
        "id": "eOLd4WUxA8ng"
      },
      "execution_count": null,
      "outputs": []
    },
    {
      "cell_type": "code",
      "source": [
        "# Model Precision: what percentage of positive tuples are labeled as such?\n",
        "print(\"Precision:\",metrics.precision_score(y_test, y_pred))\n",
        "\n",
        "# Model Recall: what percentage of positive tuples are labelled as such?\n",
        "print(\"Recall:\",metrics.recall_score(y_test, y_pred))"
      ],
      "metadata": {
        "id": "rmhjqjaTBAxh"
      },
      "execution_count": null,
      "outputs": []
    }
  ],
  "metadata": {
    "colab": {
      "collapsed_sections": [],
      "name": "Prueba técnica Colombina.ipynb",
      "provenance": [],
      "authorship_tag": "ABX9TyNh//vLIKgjOiexY+awQ0dV",
      "include_colab_link": true
    },
    "kernelspec": {
      "display_name": "Python 3",
      "name": "python3"
    },
    "language_info": {
      "name": "python"
    }
  },
  "nbformat": 4,
  "nbformat_minor": 0
}